{
 "cells": [
  {
   "cell_type": "code",
   "execution_count": 1,
   "metadata": {},
   "outputs": [],
   "source": [
    "%load_ext autoreload\n",
    "%autoreload 2"
   ]
  },
  {
   "cell_type": "code",
   "execution_count": 2,
   "metadata": {},
   "outputs": [],
   "source": [
    "import os\n",
    "os.chdir(\"..\")"
   ]
  },
  {
   "cell_type": "code",
   "execution_count": 3,
   "metadata": {},
   "outputs": [],
   "source": [
    "from deepsvg.svglib.geom import Point\n",
    "from deepsvg.svglib.svg import SVG\n",
    "from deepsvg.svglib.svg_path import SVGPath\n",
    "from deepsvg.svglib.utils import to_gif\n",
    "\n",
    "from deepsvg.difflib.tensor import SVGTensor\n",
    "from deepsvg.difflib.utils import *\n",
    "from deepsvg.difflib.loss import *"
   ]
  },
  {
   "cell_type": "code",
   "execution_count": 4,
   "metadata": {},
   "outputs": [],
   "source": [
    "import torch.optim as optim\n",
    "import IPython.display as ipd\n",
    "from moviepy.editor import ImageClip, concatenate_videoclips, ipython_display"
   ]
  },
  {
   "cell_type": "code",
   "execution_count": 5,
   "metadata": {},
   "outputs": [],
   "source": [
    "import pickle\n",
    "import csv\n",
    "import pandas as pd "
   ]
  },
  {
   "cell_type": "markdown",
   "metadata": {},
   "source": [
    "# Save svg tensor in a .pkl file"
   ]
  },
  {
   "cell_type": "code",
   "execution_count": 6,
   "metadata": {},
   "outputs": [],
   "source": [
    "def save_svg_tensor(file_path_name, file_obj):\n",
    "    # save svg tensor data into .pkl file \n",
    "    with open(file_path_name, 'wb') as handle:\n",
    "        pickle.dump(file_obj, handle, protocol=pickle.HIGHEST_PROTOCOL)\n",
    "        \n",
    "def load_svg_tensor(file_path_name):\n",
    "    # load svg tensor data object according to the data path  \n",
    "    with open(file_path_name, 'rb') as handle:\n",
    "        svg_tensor_obj = pickle.load(handle)\n",
    "        return svg_tensor_obj"
   ]
  },
  {
   "cell_type": "code",
   "execution_count": 7,
   "metadata": {},
   "outputs": [],
   "source": [
    "svg_folder_path = 'dataset/svgs_simplified/'\n",
    "svg_tensor_folder_path = 'dataset/svgs_tensor/'"
   ]
  },
  {
   "cell_type": "code",
   "execution_count": 8,
   "metadata": {},
   "outputs": [],
   "source": [
    "svg_file_name_list = os.listdir(svg_folder_path)"
   ]
  },
  {
   "cell_type": "code",
   "execution_count": 9,
   "metadata": {},
   "outputs": [],
   "source": [
    "# load svg_meta.csv\n",
    "nonempty_svg_data_list = []\n",
    "with open('dataset/svgs_meta.csv','rt')as f:\n",
    "    svg_meta_data = csv.reader(f)\n",
    "    header = next(svg_meta_data)\n",
    "    for row in svg_meta_data:\n",
    "        nonempty_svg_data_list.append(str(row[0]) + '.svg')"
   ]
  },
  {
   "cell_type": "code",
   "execution_count": 10,
   "metadata": {},
   "outputs": [],
   "source": [
    "for svg_file_name in nonempty_svg_data_list:\n",
    "    # read the original svg object from simplified folder\n",
    "    svg_file_path_name = os.path.join(svg_folder_path, svg_file_name)\n",
    "    svg_obj = SVG.load_svg(svg_file_path_name)\n",
    "    # transform svg object to tensor obect\n",
    "    svg_tensor_obj = svg_obj.to_tensor()\n",
    "    svg_tensor_file_name = svg_file_name.replace('.svg', '.pkl')\n",
    "    svg_tensor_file_path_name = os.path.join(svg_tensor_folder_path, svg_tensor_file_name)\n",
    "    # save tensor object to the file    \n",
    "    save_svg_tensor(svg_tensor_file_path_name, svg_tensor_obj)"
   ]
  },
  {
   "cell_type": "code",
   "execution_count": 11,
   "metadata": {},
   "outputs": [
    {
     "name": "stdout",
     "output_type": "stream",
     "text": [
      "968\n"
     ]
    }
   ],
   "source": [
    "print(len(nonempty_svg_data_list))"
   ]
  },
  {
   "cell_type": "markdown",
   "metadata": {},
   "source": [
    "# svgs_tensor process"
   ]
  },
  {
   "cell_type": "code",
   "execution_count": 12,
   "metadata": {},
   "outputs": [],
   "source": [
    "def save_csv_file(csv_file_path_name, row_list):\n",
    "    with open(csv_file_path_name,'rt') as file:\n",
    "        writer = csv.writer(file, delimiter=',', quotechar='\"', quoting=csv.QUOTE_MINIMAL)\n",
    "        for row in row_list:\n",
    "            writer.writerow(row)"
   ]
  },
  {
   "cell_type": "code",
   "execution_count": 13,
   "metadata": {},
   "outputs": [],
   "source": [
    "svg_tensor_processed = []\n",
    "svg_tensor_folder_path_processed = 'dataset/svgs_tensor_processed/'\n",
    "svgs_meta_processed_path_name = 'dataset/svgs_meta_processed.csv'\n",
    "with open('dataset/svgs_meta.csv','rt')as f:\n",
    "    svg_meta_data = csv.reader(f)\n",
    "    header = next(svg_meta_data)\n",
    "    svg_tensor_processed.append(header)\n",
    "    index = 0\n",
    "    for row in svg_meta_data:\n",
    "        svg_tensor_file_name = row[0] + '.pkl'\n",
    "        svg_tensor_file_name_processed = str(index) + '.pkl'\n",
    "        svg_tensor_file_path_name = os.path.join(svg_tensor_folder_path, svg_tensor_file_name)\n",
    "        svg_tensor_file_path_name_processed = os.path.join(svg_tensor_folder_path_processed, svg_tensor_file_name_processed)\n",
    "        # load svg tensor object\n",
    "        svg_tensor_obj = load_svg_tensor(svg_tensor_file_path_name)\n",
    "        # save svg tensor object\n",
    "        save_svg_tensor(svg_tensor_file_path_name_processed, svg_tensor_obj)\n",
    "        # reorder the first index \n",
    "        row[0] = str(index)\n",
    "        svg_tensor_processed.append(row)\n",
    "        index = index + 1"
   ]
  },
  {
   "cell_type": "code",
   "execution_count": 15,
   "metadata": {},
   "outputs": [],
   "source": [
    "# save the processed svg tensor\n",
    "pd.DataFrame(svg_tensor_processed).to_csv(svgs_meta_processed_path_name, header=None, index=None)"
   ]
  },
  {
   "cell_type": "code",
   "execution_count": null,
   "metadata": {},
   "outputs": [],
   "source": []
  }
 ],
 "metadata": {
  "kernelspec": {
   "display_name": "Python 3",
   "language": "python",
   "name": "python3"
  },
  "language_info": {
   "codemirror_mode": {
    "name": "ipython",
    "version": 3
   },
   "file_extension": ".py",
   "mimetype": "text/x-python",
   "name": "python",
   "nbconvert_exporter": "python",
   "pygments_lexer": "ipython3",
   "version": "3.7.9"
  }
 },
 "nbformat": 4,
 "nbformat_minor": 4
}
