{
 "cells": [
  {
   "cell_type": "code",
   "execution_count": 1,
   "metadata": {},
   "outputs": [],
   "source": [
    "%load_ext autoreload\n",
    "%autoreload 2"
   ]
  },
  {
   "cell_type": "code",
   "execution_count": 2,
   "metadata": {},
   "outputs": [],
   "source": [
    "import os\n",
    "os.chdir(\"..\")"
   ]
  },
  {
   "cell_type": "code",
   "execution_count": 3,
   "metadata": {},
   "outputs": [],
   "source": [
    "from deepsvg.svglib.svg import SVG\n",
    "\n",
    "from deepsvg import utils\n",
    "from deepsvg.difflib.tensor import SVGTensor\n",
    "from deepsvg.svglib.utils import to_gif\n",
    "from deepsvg.svglib.geom import Bbox\n",
    "from deepsvg.svg_dataset import SVGDataset, load_dataset\n",
    "from deepsvg.utils.utils import batchify, linear\n",
    "\n",
    "import torch\n",
    "import numpy as np"
   ]
  },
  {
   "cell_type": "code",
   "execution_count": 4,
   "metadata": {},
   "outputs": [],
   "source": [
    "import csv"
   ]
  },
  {
   "cell_type": "markdown",
   "metadata": {},
   "source": [
    "# Compute the corresponding latent vector of tree visualizations"
   ]
  },
  {
   "cell_type": "code",
   "execution_count": 5,
   "metadata": {},
   "outputs": [],
   "source": [
    "device = torch.device(\"cuda:0\"if torch.cuda.is_available() else \"cpu\") "
   ]
  },
  {
   "cell_type": "markdown",
   "metadata": {},
   "source": [
    "Load the training model of tree visualization dataset"
   ]
  },
  {
   "cell_type": "code",
   "execution_count": 6,
   "metadata": {},
   "outputs": [
    {
     "name": "stdout",
     "output_type": "stream",
     "text": [
      "model_args ['commands', 'args', 'commands', 'args']\n",
      "model.py 104 seq_len 10\n",
      "model.py 34 max_len 12\n",
      "model.py 116 cfg.max_num_groups 100\n",
      "model.py 69 seq_len 100\n",
      "model.py 69 seq_len 11\n"
     ]
    }
   ],
   "source": [
    "pretrained_path = \"./pretrained/treevis_model.pth.tar\"\n",
    "from configs.deepsvg.hierarchical_ordered import Config\n",
    "\n",
    "cfg = Config()\n",
    "model = cfg.make_model().to(device)\n",
    "utils.load_model(pretrained_path, model)\n",
    "model.eval();"
   ]
  },
  {
   "cell_type": "code",
   "execution_count": 7,
   "metadata": {},
   "outputs": [
    {
     "name": "stdout",
     "output_type": "stream",
     "text": [
      "cfg.data_dir ./dataset/svgs_simplified/ cfg.meta_filepath ./dataset/svg_meta.csv\n",
      "check point1 207\n",
      "filter_platform None filter_category None max_num_groups 100 max_seq_len 10 max_total_len 1000\n",
      "check point3 207\n"
     ]
    }
   ],
   "source": [
    "dataset = load_dataset(cfg)"
   ]
  },
  {
   "cell_type": "code",
   "execution_count": 8,
   "metadata": {},
   "outputs": [],
   "source": [
    "def encode(data):\n",
    "    model_args = batchify((data[key] for key in cfg.model_args), device)\n",
    "    with torch.no_grad():\n",
    "        z = model(*model_args, encode_mode=True)\n",
    "        return z"
   ]
  },
  {
   "cell_type": "code",
   "execution_count": 9,
   "metadata": {},
   "outputs": [],
   "source": [
    "def encode_svg(svg):\n",
    "    data = dataset.get(svg=svg)\n",
    "    return encode(data)"
   ]
  },
  {
   "cell_type": "code",
   "execution_count": 10,
   "metadata": {},
   "outputs": [],
   "source": [
    "def decode(z, do_display=True, return_svg=False, return_png=False):\n",
    "    commands_y, args_y = model.greedy_sample(z=z)\n",
    "    tensor_pred = SVGTensor.from_cmd_args(commands_y[0].cpu(), args_y[0].cpu())\n",
    "    svg_path_sample = SVG.from_tensor(tensor_pred.data, viewbox=Bbox(256), allow_empty=True).normalize().split_paths().set_color(\"random\")\n",
    "    \n",
    "    if return_svg:\n",
    "        return svg_path_sample\n",
    "    \n",
    "    return svg_path_sample.draw(do_display=do_display, return_png=return_png)"
   ]
  },
  {
   "cell_type": "code",
   "execution_count": 11,
   "metadata": {},
   "outputs": [],
   "source": [
    "def load_svg(filename):\n",
    "    svg = SVG.load_svg(filename)\n",
    "#     svg = dataset.simplify(svg)\n",
    "#     svg = dataset.preprocess(svg)\n",
    "    return svg"
   ]
  },
  {
   "cell_type": "code",
   "execution_count": 12,
   "metadata": {},
   "outputs": [],
   "source": [
    "def transform_svg_to_list(svg_file_path_name):\n",
    "    svg = load_svg(svg_file_path_name)\n",
    "    latent_vector = encode_svg(svg)\n",
    "    latent_vector_array = latent_vector.tolist()\n",
    "    return latent_vector_array"
   ]
  },
  {
   "cell_type": "code",
   "execution_count": 13,
   "metadata": {},
   "outputs": [],
   "source": [
    "def save_csv_file(csv_file_path_name, row_list):\n",
    "    with open(csv_file_path_name,\"w+\") as my_csv:\n",
    "        csvWriter = csv.writer(my_csv,delimiter=',')\n",
    "        csvWriter.writerows(row_list)"
   ]
  },
  {
   "cell_type": "code",
   "execution_count": 40,
   "metadata": {
    "scrolled": true
   },
   "outputs": [],
   "source": [
    "svg_folder_path = \"dataset/svgs_simplified\"\n",
    "svg_file_latent_vectors = []\n",
    "with open('dataset/svg_meta.csv','rt')as f:\n",
    "    svg_meta_data = csv.reader(f)\n",
    "    header = next(svg_meta_data)\n",
    "    for row in svg_meta_data:\n",
    "        svg_file_name = row[0] + '.svg'\n",
    "        svg_file_path_name = os.path.join(svg_folder_path, svg_file_name)\n",
    "        latent_vector_array = transform_svg_to_list(svg_file_path_name)\n",
    "        svg_file_latent_vectors.append(latent_vector_array[0][0][0])\n",
    "svg_latent_vectors_path_name = 'dataset/svg_latent_vectors.csv'\n",
    "save_csv_file(svg_latent_vectors_path_name, svg_file_latent_vectors)"
   ]
  },
  {
   "cell_type": "code",
   "execution_count": 28,
   "metadata": {},
   "outputs": [
    {
     "name": "stdout",
     "output_type": "stream",
     "text": [
      "torch.Size([1, 1, 1, 256])\n",
      "tensor([[[[ 0.5886, -0.6213, -0.1896, -0.0170,  0.1007,  0.4125, -1.1665,\n",
      "            0.3930,  0.3927,  0.3178,  0.8436,  1.0158, -1.0021,  0.2204,\n",
      "           -0.2429,  0.4291, -0.8998, -0.2535,  1.0950,  0.1487,  0.2590,\n",
      "           -0.3744, -0.3718,  1.2808,  0.9027,  0.0831,  0.3149,  0.2674,\n",
      "           -0.7472, -0.1174,  1.2471, -0.7068, -0.8883,  0.1822, -0.1287,\n",
      "            0.4255,  0.7005, -0.3089, -0.5268, -0.1876,  0.6042,  0.4260,\n",
      "           -1.0234, -0.0068, -0.0603,  1.0741, -0.4883, -0.2867, -1.0255,\n",
      "           -0.9236,  0.2824, -0.0753, -0.1835, -0.0692,  0.3935,  1.0110,\n",
      "            0.7245, -0.5197,  0.5974, -0.0309, -0.9831,  0.4373, -0.2280,\n",
      "            0.0307,  0.1831,  0.0243,  0.3461, -0.4361, -0.9731,  0.2440,\n",
      "            0.9416, -0.5986, -0.5852, -0.4552, -0.6459, -0.4400,  0.1449,\n",
      "            1.1343,  0.8115,  0.6357, -0.0379,  0.0782,  1.1648, -0.1236,\n",
      "            0.2684, -0.3968, -0.6774,  0.3208, -0.1980,  0.5985, -0.0757,\n",
      "            0.0993,  0.5982,  0.3718, -0.2733, -0.0156, -0.0947, -0.1617,\n",
      "           -0.2861,  0.0670,  0.4648,  0.6438,  0.8235,  0.0591,  0.2291,\n",
      "           -0.8883, -0.3317,  0.9375, -0.0523, -1.5012,  0.8607, -0.1504,\n",
      "           -0.6498, -0.3124, -0.2865, -0.7694,  0.1291, -0.0314, -0.7927,\n",
      "            0.6194,  0.4875,  0.7906,  0.1638, -0.0023, -0.2571,  1.8558,\n",
      "            0.2429,  0.5383, -0.1324, -0.5526,  0.2413, -0.2295, -0.5446,\n",
      "           -1.3402,  0.3202,  0.3387,  0.9252,  1.2714, -0.0499,  1.0735,\n",
      "           -0.3820, -0.3622,  0.7595,  0.0284, -0.4937,  0.4888,  0.4973,\n",
      "           -0.2358,  1.1864,  0.0060, -0.0048, -0.1790, -0.0666,  0.3713,\n",
      "           -0.6597, -0.5772,  0.0573,  0.3120, -0.1950, -0.6797,  0.2598,\n",
      "            0.6042, -0.4750, -0.3312, -0.7097, -1.5736, -0.6825, -0.8205,\n",
      "           -0.1857,  0.0159,  0.1013, -0.6836,  0.0896,  0.7277, -0.1359,\n",
      "           -1.0838,  0.5830, -0.1641, -0.0920, -1.0520,  0.0249, -0.2031,\n",
      "            1.1228, -0.3685,  0.5723, -0.2743, -0.4954, -0.4063, -0.8733,\n",
      "           -0.1834,  0.6150, -0.5748,  0.2974, -0.4157, -0.3431, -0.8420,\n",
      "           -0.1408,  0.3754, -0.1112, -0.5029,  1.2035, -1.1491,  0.0035,\n",
      "            0.0667, -0.2638, -0.2599,  0.2325, -1.0928,  0.3749,  0.1162,\n",
      "            0.2746, -0.2602, -0.5758,  0.5895, -0.8830, -0.9570,  0.3386,\n",
      "           -0.6560,  0.4936,  1.2797,  0.5767,  0.2542, -0.7731, -0.9473,\n",
      "           -0.3489,  0.3214, -0.6670,  1.6757, -0.4781, -0.3580,  1.2601,\n",
      "           -0.1368,  0.6092, -0.2479, -0.1718, -0.1512,  0.1902,  0.1016,\n",
      "           -0.6558,  0.4752, -0.0453,  0.9171,  1.4901,  0.1872,  0.5593,\n",
      "           -0.1994,  0.9841, -0.1509,  0.2145,  0.1300,  0.9635, -0.2597,\n",
      "            0.6264, -0.9084, -1.1966, -0.2808]]]], device='cuda:0')\n"
     ]
    }
   ],
   "source": [
    "svg1 = load_svg(\"dataset/svgs_simplified/39091.svg\")\n",
    "# svg1 = load_svg(\"docs/frames/face_1.svg\")\n",
    "z1 = encode_svg(svg1)\n",
    "print(z1.shape)\n",
    "print(z1)"
   ]
  },
  {
   "cell_type": "code",
   "execution_count": 29,
   "metadata": {},
   "outputs": [
    {
     "data": {
      "text/plain": [
       "SVG[Bbox(0.0 0.0 24.0 24.0)](\n",
       "\tSVGPathGroup(SVGPath(M[P(0.0, 0.0), P(12.75, 9.28125)] L[P(12.75, 9.28125), P(11.0625, 10.78125)] L[P(11.0625, 10.78125), P(11.0625, 10.78125)] Z[P(11.0625, 10.78125), P(12.75, 9.28125)])),\n",
       "\tSVGPathGroup(SVGPath(M[P(-0.09375, -0.09375), P(16.78125, 9.9375)] L[P(16.78125, 9.9375), P(12.5625, 10.3125)] L[P(12.5625, 10.3125), P(12.5625, 10.5)] Z[P(12.5625, 10.5), P(16.78125, 9.9375)])),\n",
       "\tSVGPathGroup(SVGPath(M[P(-0.09375, -0.09375), P(12.09375, 6.09375)] L[P(12.09375, 6.09375), P(12.09375, 9.65625)] L[P(12.09375, 9.65625), P(12.09375, 9.65625)] Z[P(12.09375, 9.65625), P(12.09375, 6.09375)])),\n",
       "\tSVGPathGroup(SVGPath(M[P(-0.09375, -0.09375), P(12.09375, 4.875)] L[P(12.09375, 4.875), P(11.53125, 9.28125)] L[P(11.53125, 9.28125), P(11.53125, 9.375)] Z[P(11.53125, 9.375), P(12.09375, 4.875)])),\n",
       "\tSVGPathGroup(SVGPath(M[P(-0.09375, -0.09375), P(16.78125, 9.9375)] L[P(16.78125, 9.9375), P(12.5625, 10.5)] L[P(12.5625, 10.5), P(12.5625, 10.78125)] Z[P(12.5625, 10.78125), P(16.78125, 9.9375)])),\n",
       "\tSVGPathGroup(SVGPath(M[P(-0.09375, -0.09375), P(16.78125, 9.9375)] L[P(16.78125, 9.9375), P(12.5625, 10.3125)] L[P(12.5625, 10.3125), P(12.5625, 10.5)] Z[P(12.5625, 10.5), P(16.78125, 9.9375)])),\n",
       "\tSVGPathGroup(SVGPath(M[P(-0.09375, -0.09375), P(15.1875, 9.9375)] L[P(15.1875, 9.9375), P(12.5625, 9.9375)] L[P(12.5625, 9.9375), P(12.5625, 9.9375)] Z[P(12.5625, 9.9375), P(15.1875, 9.9375)])),\n",
       "\tSVGPathGroup(SVGPath(M[P(-0.09375, -0.09375), P(15.28125, 9.65625)] L[P(15.28125, 9.65625), P(12.5625, 9.75)] L[P(12.5625, 9.75), P(12.5625, 9.9375)] Z[P(12.5625, 9.9375), P(15.28125, 9.65625)])),\n",
       "\tSVGPathGroup(SVGPath(M[P(-0.09375, -0.09375), P(12.09375, 6.09375)] L[P(12.09375, 6.09375), P(12.09375, 9.28125)] L[P(12.09375, 9.28125), P(12.09375, 9.5625)] Z[P(12.09375, 9.5625), P(12.09375, 6.09375)])),\n",
       "\tSVGPathGroup(SVGPath(M[P(-0.09375, -0.09375), P(12.09375, 6.09375)] L[P(12.09375, 6.09375), P(12.09375, 9.375)] L[P(12.09375, 9.375), P(12.09375, 9.375)] Z[P(12.09375, 9.375), P(12.09375, 6.09375)])),\n",
       "\tSVGPathGroup(SVGPath(M[P(-0.09375, -0.09375), P(12.09375, 5.4375)] L[P(12.09375, 5.4375), P(12.09375, 9.375)] L[P(12.09375, 9.375), P(12.09375, 9.375)] Z[P(12.09375, 9.375), P(12.09375, 5.4375)])),\n",
       "\tSVGPathGroup(SVGPath(M[P(-0.09375, -0.09375), P(12.09375, 4.875)] L[P(12.09375, 4.875), P(11.53125, 9.28125)] L[P(11.53125, 9.28125), P(11.53125, 9.375)] Z[P(11.53125, 9.375), P(12.09375, 4.875)])),\n",
       "\tSVGPathGroup(SVGPath(M[P(-0.09375, -0.09375), P(11.4375, 4.875)] L[P(11.4375, 4.875), P(11.53125, 9.28125)] L[P(11.53125, 9.28125), P(11.0625, 9.28125)] Z[P(11.0625, 9.28125), P(11.4375, 4.875)])),\n",
       "\tSVGPathGroup(SVGPath(M[P(-0.09375, -0.09375), P(14.71875, 10.96875)] C[P(14.71875, 10.96875), P(14.71875, 9.28125), P(14.53125, 8.625), P(13.96875, 8.4375)])),\n",
       "\tSVGPathGroup(SVGPath(M[P(13.96875, 8.4375), P(11.0625, 11.0625)] L[P(11.0625, 11.0625), P(13.96875, 8.0625)])),\n",
       "\tSVGPathGroup(SVGPath(M[P(13.96875, 8.0625), P(11.0625, 7.40625)] C[P(11.0625, 7.40625), P(12.09375, 7.03125), P(12.0, 7.59375), P(12.28125, 7.59375)] L[P(12.28125, 7.59375), P(11.0625, 11.0625)])),\n",
       "\tSVGPathGroup(SVGPath(M[P(11.0625, 11.0625), P(15.0, 9.9375)] C[P(15.0, 9.9375), P(14.8125, 9.9375), P(14.8125, 10.03125), P(15.0, 10.3125)])),\n",
       "\tSVGPathGroup(SVGPath(M[P(15.0, 10.3125), P(15.0, 9.9375)] C[P(15.0, 9.9375), P(14.8125, 9.9375), P(14.8125, 9.75), P(15.0, 9.9375)])),\n",
       "\tSVGPathGroup(SVGPath(M[P(15.0, 9.9375), P(14.0625, 7.78125)] C[P(14.0625, 7.78125), P(14.0625, 8.25), P(13.875, 8.25), P(13.875, 8.15625)])),\n",
       "\tSVGPathGroup(SVGPath(M[P(13.875, 8.15625), P(13.59375, 7.78125)] C[P(13.59375, 7.78125), P(13.6875, 7.59375), P(13.5, 7.6875), P(13.875, 7.78125)])),\n",
       "\tSVGPathGroup(SVGPath(M[P(13.875, 7.78125), P(12.09375, 6.5625)] C[P(12.09375, 6.5625), P(12.1875, 7.03125), P(12.1875, 6.9375), P(12.1875, 6.84375)])),\n",
       "\tSVGPathGroup(SVGPath(M[P(12.1875, 6.84375), P(11.90625, 6.5625)] C[P(11.90625, 6.5625), P(11.53125, 7.03125), P(11.90625, 6.9375), P(11.4375, 7.03125)])),\n",
       "\tSVGPathGroup(SVGPath(M[P(11.4375, 7.03125), P(936.0, 936.0)] M[P(936.0, 936.0), P(936.0, 936.0)])),\n",
       "\tSVGPathGroup(SVGPath(M[P(-0.09375, -0.09375), P(936.0, 936.0)] M[P(936.0, 936.0), P(936.0, 936.0)])),\n",
       "\tSVGPathGroup(SVGPath(M[P(-0.09375, -0.09375), P(936.0, 936.0)] M[P(936.0, 936.0), P(936.0, 936.0)])),\n",
       "\tSVGPathGroup(SVGPath(M[P(-0.09375, -0.09375), P(936.0, 936.0)] M[P(936.0, 936.0), P(936.0, 936.0)])),\n",
       "\tSVGPathGroup(SVGPath(M[P(-0.09375, -0.09375), P(936.0, 936.0)] M[P(936.0, 936.0), P(936.0, 936.0)])),\n",
       "\tSVGPathGroup(SVGPath(M[P(-0.09375, -0.09375), P(936.0, 936.0)] M[P(936.0, 936.0), P(936.0, 936.0)])),\n",
       "\tSVGPathGroup(SVGPath(M[P(-0.09375, -0.09375), P(936.0, 936.0)] M[P(936.0, 936.0), P(936.0, 936.0)])),\n",
       "\tSVGPathGroup(SVGPath(M[P(-0.09375, -0.09375), P(936.0, 936.0)] M[P(936.0, 936.0), P(936.0, 936.0)])),\n",
       "\tSVGPathGroup(SVGPath(M[P(-0.09375, -0.09375), P(936.0, 936.0)] M[P(936.0, 936.0), P(936.0, 936.0)])),\n",
       "\tSVGPathGroup(SVGPath(M[P(-0.09375, -0.09375), P(936.0, 936.0)] M[P(936.0, 936.0), P(936.0, 936.0)])),\n",
       "\tSVGPathGroup(SVGPath(M[P(-0.09375, -0.09375), P(936.0, 936.0)] M[P(936.0, 936.0), P(936.0, 936.0)])),\n",
       "\tSVGPathGroup(SVGPath(M[P(-0.09375, -0.09375), P(936.0, 936.0)] M[P(936.0, 936.0), P(936.0, 936.0)])),\n",
       "\tSVGPathGroup(SVGPath(M[P(-0.09375, -0.09375), P(936.0, 936.0)] M[P(936.0, 936.0), P(936.0, 936.0)])),\n",
       "\tSVGPathGroup(SVGPath(M[P(-0.09375, -0.09375), P(936.0, 936.0)] M[P(936.0, 936.0), P(936.0, 936.0)])),\n",
       "\tSVGPathGroup(SVGPath(M[P(-0.09375, -0.09375), P(936.0, 936.0)] M[P(936.0, 936.0), P(936.0, 936.0)])),\n",
       "\tSVGPathGroup(SVGPath(M[P(-0.09375, -0.09375), P(936.0, 936.0)] M[P(936.0, 936.0), P(936.0, 936.0)])),\n",
       "\tSVGPathGroup(SVGPath(M[P(-0.09375, -0.09375), P(936.0, 936.0)] M[P(936.0, 936.0), P(936.0, 936.0)])),\n",
       "\tSVGPathGroup(SVGPath(M[P(-0.09375, -0.09375), P(936.0, 936.0)] M[P(936.0, 936.0), P(936.0, 936.0)])),\n",
       "\tSVGPathGroup(SVGPath(M[P(-0.09375, -0.09375), P(936.0, 936.0)] M[P(936.0, 936.0), P(936.0, 936.0)])),\n",
       "\tSVGPathGroup(SVGPath(M[P(-0.09375, -0.09375), P(936.0, 936.0)] M[P(936.0, 936.0), P(936.0, 936.0)])),\n",
       "\tSVGPathGroup(SVGPath(M[P(-0.09375, -0.09375), P(936.0, 936.0)] M[P(936.0, 936.0), P(936.0, 936.0)])),\n",
       "\tSVGPathGroup(SVGPath(M[P(-0.09375, -0.09375), P(936.0, 936.0)] M[P(936.0, 936.0), P(936.0, 936.0)])),\n",
       "\tSVGPathGroup(SVGPath(M[P(-0.09375, -0.09375), P(936.0, 936.0)] M[P(936.0, 936.0), P(936.0, 936.0)])),\n",
       "\tSVGPathGroup(SVGPath(M[P(-0.09375, -0.09375), P(936.0, 936.0)] M[P(936.0, 936.0), P(936.0, 936.0)])),\n",
       "\tSVGPathGroup(SVGPath(M[P(-0.09375, -0.09375), P(936.0, 936.0)] M[P(936.0, 936.0), P(936.0, 936.0)])),\n",
       "\tSVGPathGroup(SVGPath(M[P(-0.09375, -0.09375), P(936.0, 936.0)] M[P(936.0, 936.0), P(936.0, 936.0)])),\n",
       "\tSVGPathGroup(SVGPath(M[P(-0.09375, -0.09375), P(936.0, 936.0)] M[P(936.0, 936.0), P(936.0, 936.0)])),\n",
       "\tSVGPathGroup(SVGPath(M[P(-0.09375, -0.09375), P(936.0, 936.0)] M[P(936.0, 936.0), P(936.0, 936.0)])),\n",
       "\tSVGPathGroup(SVGPath(M[P(-0.09375, -0.09375), P(936.0, 936.0)] M[P(936.0, 936.0), P(936.0, 936.0)])),\n",
       "\tSVGPathGroup(SVGPath(M[P(-0.09375, -0.09375), P(936.0, 936.0)] M[P(936.0, 936.0), P(936.0, 936.0)])),\n",
       "\tSVGPathGroup(SVGPath(M[P(-0.09375, -0.09375), P(936.0, 936.0)] M[P(936.0, 936.0), P(936.0, 936.0)])),\n",
       "\tSVGPathGroup(SVGPath(M[P(-0.09375, -0.09375), P(936.0, 936.0)] M[P(936.0, 936.0), P(936.0, 936.0)])),\n",
       "\tSVGPathGroup(SVGPath(M[P(-0.09375, -0.09375), P(936.0, 936.0)] M[P(936.0, 936.0), P(936.0, 936.0)])),\n",
       "\tSVGPathGroup(SVGPath(M[P(-0.09375, -0.09375), P(936.0, 936.0)] M[P(936.0, 936.0), P(936.0, 936.0)])),\n",
       "\tSVGPathGroup(SVGPath(M[P(-0.09375, -0.09375), P(936.0, 936.0)] M[P(936.0, 936.0), P(936.0, 936.0)])),\n",
       "\tSVGPathGroup(SVGPath(M[P(-0.09375, -0.09375), P(936.0, 936.0)] M[P(936.0, 936.0), P(936.0, 936.0)])),\n",
       "\tSVGPathGroup(SVGPath(M[P(-0.09375, -0.09375), P(936.0, 936.0)] M[P(936.0, 936.0), P(936.0, 936.0)])),\n",
       "\tSVGPathGroup(SVGPath(M[P(-0.09375, -0.09375), P(936.0, 936.0)] M[P(936.0, 936.0), P(936.0, 936.0)])),\n",
       "\tSVGPathGroup(SVGPath(M[P(-0.09375, -0.09375), P(936.0, 936.0)] M[P(936.0, 936.0), P(936.0, 936.0)])),\n",
       "\tSVGPathGroup(SVGPath(M[P(-0.09375, -0.09375), P(936.0, 936.0)] M[P(936.0, 936.0), P(936.0, 936.0)])),\n",
       "\tSVGPathGroup(SVGPath(M[P(-0.09375, -0.09375), P(936.0, 936.0)] M[P(936.0, 936.0), P(936.0, 936.0)])),\n",
       "\tSVGPathGroup(SVGPath(M[P(-0.09375, -0.09375), P(936.0, 936.0)] M[P(936.0, 936.0), P(936.0, 936.0)])),\n",
       "\tSVGPathGroup(SVGPath(M[P(-0.09375, -0.09375), P(936.0, 936.0)] M[P(936.0, 936.0), P(936.0, 936.0)])),\n",
       "\tSVGPathGroup(SVGPath(M[P(-0.09375, -0.09375), P(936.0, 936.0)] M[P(936.0, 936.0), P(936.0, 936.0)])),\n",
       "\tSVGPathGroup(SVGPath(M[P(-0.09375, -0.09375), P(936.0, 936.0)] M[P(936.0, 936.0), P(936.0, 936.0)])),\n",
       "\tSVGPathGroup(SVGPath(M[P(-0.09375, -0.09375), P(936.0, 936.0)] M[P(936.0, 936.0), P(936.0, 936.0)])),\n",
       "\tSVGPathGroup(SVGPath(M[P(-0.09375, -0.09375), P(936.0, 936.0)] M[P(936.0, 936.0), P(936.0, 936.0)])),\n",
       "\tSVGPathGroup(SVGPath(M[P(-0.09375, -0.09375), P(936.0, 936.0)] M[P(936.0, 936.0), P(936.0, 936.0)])),\n",
       "\tSVGPathGroup(SVGPath(M[P(-0.09375, -0.09375), P(936.0, 936.0)] M[P(936.0, 936.0), P(936.0, 936.0)])),\n",
       "\tSVGPathGroup(SVGPath(M[P(-0.09375, -0.09375), P(936.0, 936.0)] M[P(936.0, 936.0), P(936.0, 936.0)])),\n",
       "\tSVGPathGroup(SVGPath(M[P(-0.09375, -0.09375), P(936.0, 936.0)] M[P(936.0, 936.0), P(936.0, 936.0)])),\n",
       "\tSVGPathGroup(SVGPath(M[P(-0.09375, -0.09375), P(936.0, 936.0)] M[P(936.0, 936.0), P(936.0, 936.0)])),\n",
       "\tSVGPathGroup(SVGPath(M[P(-0.09375, -0.09375), P(936.0, 936.0)] M[P(936.0, 936.0), P(936.0, 936.0)])),\n",
       "\tSVGPathGroup(SVGPath(M[P(-0.09375, -0.09375), P(936.0, 936.0)] M[P(936.0, 936.0), P(936.0, 936.0)])),\n",
       "\tSVGPathGroup(SVGPath(M[P(-0.09375, -0.09375), P(936.0, 936.0)] M[P(936.0, 936.0), P(936.0, 936.0)])),\n",
       "\tSVGPathGroup(SVGPath(M[P(-0.09375, -0.09375), P(936.0, 936.0)] M[P(936.0, 936.0), P(936.0, 936.0)])),\n",
       "\tSVGPathGroup(SVGPath(M[P(-0.09375, -0.09375), P(936.0, 936.0)] M[P(936.0, 936.0), P(936.0, 936.0)])),\n",
       "\tSVGPathGroup(SVGPath(M[P(-0.09375, -0.09375), P(936.0, 936.0)] M[P(936.0, 936.0), P(936.0, 936.0)])),\n",
       "\tSVGPathGroup(SVGPath(M[P(-0.09375, -0.09375), P(936.0, 936.0)] M[P(936.0, 936.0), P(936.0, 936.0)])),\n",
       "\tSVGPathGroup(SVGPath(M[P(-0.09375, -0.09375), P(936.0, 936.0)] M[P(936.0, 936.0), P(936.0, 936.0)])),\n",
       "\tSVGPathGroup(SVGPath(M[P(-0.09375, -0.09375), P(936.0, 936.0)] M[P(936.0, 936.0), P(936.0, 936.0)])),\n",
       "\tSVGPathGroup(SVGPath(M[P(-0.09375, -0.09375), P(936.0, 936.0)] M[P(936.0, 936.0), P(936.0, 936.0)])),\n",
       "\tSVGPathGroup(SVGPath(M[P(-0.09375, -0.09375), P(936.0, 936.0)] M[P(936.0, 936.0), P(936.0, 936.0)])),\n",
       "\tSVGPathGroup(SVGPath(M[P(-0.09375, -0.09375), P(936.0, 936.0)] M[P(936.0, 936.0), P(936.0, 936.0)])),\n",
       "\tSVGPathGroup(SVGPath(M[P(-0.09375, -0.09375), P(936.0, 936.0)] M[P(936.0, 936.0), P(936.0, 936.0)])),\n",
       "\tSVGPathGroup(SVGPath(M[P(-0.09375, -0.09375), P(936.0, 936.0)] M[P(936.0, 936.0), P(936.0, 936.0)])),\n",
       "\tSVGPathGroup(SVGPath(M[P(-0.09375, -0.09375), P(936.0, 936.0)] M[P(936.0, 936.0), P(936.0, 936.0)])),\n",
       "\tSVGPathGroup(SVGPath(M[P(-0.09375, -0.09375), P(936.0, 936.0)] M[P(936.0, 936.0), P(936.0, 936.0)])),\n",
       "\tSVGPathGroup(SVGPath(M[P(-0.09375, -0.09375), P(936.0, 936.0)] M[P(936.0, 936.0), P(936.0, 936.0)])),\n",
       "\tSVGPathGroup(SVGPath(M[P(-0.09375, -0.09375), P(936.0, 936.0)] M[P(936.0, 936.0), P(936.0, 936.0)])),\n",
       "\tSVGPathGroup(SVGPath(M[P(-0.09375, -0.09375), P(936.0, 936.0)] M[P(936.0, 936.0), P(936.0, 936.0)])),\n",
       "\tSVGPathGroup(SVGPath(M[P(-0.09375, -0.09375), P(936.0, 936.0)] M[P(936.0, 936.0), P(936.0, 936.0)])),\n",
       "\tSVGPathGroup(SVGPath(M[P(-0.09375, -0.09375), P(936.0, 936.0)] M[P(936.0, 936.0), P(936.0, 936.0)])),\n",
       "\tSVGPathGroup(SVGPath(M[P(-0.09375, -0.09375), P(936.0, 936.0)] M[P(936.0, 936.0), P(936.0, 936.0)])),\n",
       "\tSVGPathGroup(SVGPath(M[P(-0.09375, -0.09375), P(936.0, 936.0)] M[P(936.0, 936.0), P(936.0, 936.0)])),\n",
       "\tSVGPathGroup(SVGPath(M[P(-0.09375, -0.09375), P(936.0, 936.0)] M[P(936.0, 936.0), P(936.0, 936.0)])),\n",
       "\tSVGPathGroup(SVGPath(M[P(-0.09375, -0.09375), P(936.0, 936.0)] M[P(936.0, 936.0), P(936.0, 936.0)])),\n",
       "\tSVGPathGroup(SVGPath(M[P(-0.09375, -0.09375), P(936.0, 936.0)] M[P(936.0, 936.0), P(936.0, 936.0)]))\n",
       ")"
      ]
     },
     "execution_count": 29,
     "metadata": {},
     "output_type": "execute_result"
    }
   ],
   "source": [
    "decode(z1, do_display=False, return_svg=True)"
   ]
  },
  {
   "cell_type": "code",
   "execution_count": 30,
   "metadata": {
    "scrolled": true
   },
   "outputs": [
    {
     "data": {
      "image/svg+xml": [
       "<svg height=\"200px\" viewBox=\"0.0 0.0 24.0 24.0\" width=\"200px\" xmlns=\"http://www.w3.org/2000/svg\"><path d=\"M12.75 9.28125 L11.0625 10.78125 L11.0625 10.78125 Z\" fill=\"none\" filling=\"0\" stroke=\"deepskyblue\" stroke-opacity=\"1.0\" stroke-width=\".3\"/>\n",
       "<path d=\"M16.78125 9.9375 L12.5625 10.3125 L12.5625 10.5 Z\" fill=\"none\" filling=\"0\" stroke=\"lime\" stroke-opacity=\"1.0\" stroke-width=\".3\"/>\n",
       "<path d=\"M12.09375 6.09375 L12.09375 9.65625 L12.09375 9.65625 Z\" fill=\"none\" filling=\"0\" stroke=\"deeppink\" stroke-opacity=\"1.0\" stroke-width=\".3\"/>\n",
       "<path d=\"M12.09375 4.875 L11.53125 9.28125 L11.53125 9.375 Z\" fill=\"none\" filling=\"0\" stroke=\"gold\" stroke-opacity=\"1.0\" stroke-width=\".3\"/>\n",
       "<path d=\"M16.78125 9.9375 L12.5625 10.5 L12.5625 10.78125 Z\" fill=\"none\" filling=\"0\" stroke=\"coral\" stroke-opacity=\"1.0\" stroke-width=\".3\"/>\n",
       "<path d=\"M16.78125 9.9375 L12.5625 10.3125 L12.5625 10.5 Z\" fill=\"none\" filling=\"0\" stroke=\"darkviolet\" stroke-opacity=\"1.0\" stroke-width=\".3\"/>\n",
       "<path d=\"M15.1875 9.9375 L12.5625 9.9375 L12.5625 9.9375 Z\" fill=\"none\" filling=\"0\" stroke=\"royalblue\" stroke-opacity=\"1.0\" stroke-width=\".3\"/>\n",
       "<path d=\"M15.28125 9.65625 L12.5625 9.75 L12.5625 9.9375 Z\" fill=\"none\" filling=\"0\" stroke=\"darkmagenta\" stroke-opacity=\"1.0\" stroke-width=\".3\"/>\n",
       "<path d=\"M12.09375 6.09375 L12.09375 9.28125 L12.09375 9.5625 Z\" fill=\"none\" filling=\"0\" stroke=\"teal\" stroke-opacity=\"1.0\" stroke-width=\".3\"/>\n",
       "<path d=\"M12.09375 6.09375 L12.09375 9.375 L12.09375 9.375 Z\" fill=\"none\" filling=\"0\" stroke=\"gold\" stroke-opacity=\"1.0\" stroke-width=\".3\"/>\n",
       "<path d=\"M12.09375 5.4375 L12.09375 9.375 L12.09375 9.375 Z\" fill=\"none\" filling=\"0\" stroke=\"green\" stroke-opacity=\"1.0\" stroke-width=\".3\"/>\n",
       "<path d=\"M12.09375 4.875 L11.53125 9.28125 L11.53125 9.375 Z\" fill=\"none\" filling=\"0\" stroke=\"maroon\" stroke-opacity=\"1.0\" stroke-width=\".3\"/>\n",
       "<path d=\"M11.4375 4.875 L11.53125 9.28125 L11.0625 9.28125 Z\" fill=\"none\" filling=\"0\" stroke=\"aqua\" stroke-opacity=\"1.0\" stroke-width=\".3\"/>\n",
       "<path d=\"M14.71875 10.96875 C14.71875 9.28125 14.53125 8.625 13.96875 8.4375\" fill=\"none\" filling=\"0\" stroke=\"grey\" stroke-opacity=\"1.0\" stroke-width=\".3\"/>\n",
       "<path d=\"M11.0625 11.0625 L13.96875 8.0625\" fill=\"none\" filling=\"0\" stroke=\"steelblue\" stroke-opacity=\"1.0\" stroke-width=\".3\"/>\n",
       "<path d=\"M11.0625 7.40625 C12.09375 7.03125 12.0 7.59375 12.28125 7.59375 L11.0625 11.0625\" fill=\"none\" filling=\"0\" stroke=\"lime\" stroke-opacity=\"1.0\" stroke-width=\".3\"/>\n",
       "<path d=\"M15.0 9.9375 C14.8125 9.9375 14.8125 10.03125 15.0 10.3125\" fill=\"none\" filling=\"0\" stroke=\"orange\" stroke-opacity=\"1.0\" stroke-width=\".3\"/>\n",
       "<path d=\"M15.0 9.9375 C14.8125 9.9375 14.8125 9.75 15.0 9.9375\" fill=\"none\" filling=\"0\" stroke=\"deepskyblue\" stroke-opacity=\"1.0\" stroke-width=\".3\"/>\n",
       "<path d=\"M14.0625 7.78125 C14.0625 8.25 13.875 8.25 13.875 8.15625\" fill=\"none\" filling=\"0\" stroke=\"lime\" stroke-opacity=\"1.0\" stroke-width=\".3\"/>\n",
       "<path d=\"M13.59375 7.78125 C13.6875 7.59375 13.5 7.6875 13.875 7.78125\" fill=\"none\" filling=\"0\" stroke=\"deeppink\" stroke-opacity=\"1.0\" stroke-width=\".3\"/>\n",
       "<path d=\"M12.09375 6.5625 C12.1875 7.03125 12.1875 6.9375 12.1875 6.84375\" fill=\"none\" filling=\"0\" stroke=\"gold\" stroke-opacity=\"1.0\" stroke-width=\".3\"/>\n",
       "<path d=\"M11.90625 6.5625 C11.53125 7.03125 11.90625 6.9375 11.4375 7.03125\" fill=\"none\" filling=\"0\" stroke=\"coral\" stroke-opacity=\"1.0\" stroke-width=\".3\"/>\n",
       "<path d=\"M936.0 936.0 M936.0 936.0\" fill=\"none\" filling=\"0\" stroke=\"darkviolet\" stroke-opacity=\"1.0\" stroke-width=\".3\"/>\n",
       "<path d=\"M936.0 936.0 M936.0 936.0\" fill=\"none\" filling=\"0\" stroke=\"royalblue\" stroke-opacity=\"1.0\" stroke-width=\".3\"/>\n",
       "<path d=\"M936.0 936.0 M936.0 936.0\" fill=\"none\" filling=\"0\" stroke=\"darkmagenta\" stroke-opacity=\"1.0\" stroke-width=\".3\"/>\n",
       "<path d=\"M936.0 936.0 M936.0 936.0\" fill=\"none\" filling=\"0\" stroke=\"teal\" stroke-opacity=\"1.0\" stroke-width=\".3\"/>\n",
       "<path d=\"M936.0 936.0 M936.0 936.0\" fill=\"none\" filling=\"0\" stroke=\"gold\" stroke-opacity=\"1.0\" stroke-width=\".3\"/>\n",
       "<path d=\"M936.0 936.0 M936.0 936.0\" fill=\"none\" filling=\"0\" stroke=\"green\" stroke-opacity=\"1.0\" stroke-width=\".3\"/>\n",
       "<path d=\"M936.0 936.0 M936.0 936.0\" fill=\"none\" filling=\"0\" stroke=\"maroon\" stroke-opacity=\"1.0\" stroke-width=\".3\"/>\n",
       "<path d=\"M936.0 936.0 M936.0 936.0\" fill=\"none\" filling=\"0\" stroke=\"aqua\" stroke-opacity=\"1.0\" stroke-width=\".3\"/>\n",
       "<path d=\"M936.0 936.0 M936.0 936.0\" fill=\"none\" filling=\"0\" stroke=\"grey\" stroke-opacity=\"1.0\" stroke-width=\".3\"/>\n",
       "<path d=\"M936.0 936.0 M936.0 936.0\" fill=\"none\" filling=\"0\" stroke=\"steelblue\" stroke-opacity=\"1.0\" stroke-width=\".3\"/>\n",
       "<path d=\"M936.0 936.0 M936.0 936.0\" fill=\"none\" filling=\"0\" stroke=\"lime\" stroke-opacity=\"1.0\" stroke-width=\".3\"/>\n",
       "<path d=\"M936.0 936.0 M936.0 936.0\" fill=\"none\" filling=\"0\" stroke=\"orange\" stroke-opacity=\"1.0\" stroke-width=\".3\"/>\n",
       "<path d=\"M936.0 936.0 M936.0 936.0\" fill=\"none\" filling=\"0\" stroke=\"deepskyblue\" stroke-opacity=\"1.0\" stroke-width=\".3\"/>\n",
       "<path d=\"M936.0 936.0 M936.0 936.0\" fill=\"none\" filling=\"0\" stroke=\"lime\" stroke-opacity=\"1.0\" stroke-width=\".3\"/>\n",
       "<path d=\"M936.0 936.0 M936.0 936.0\" fill=\"none\" filling=\"0\" stroke=\"deeppink\" stroke-opacity=\"1.0\" stroke-width=\".3\"/>\n",
       "<path d=\"M936.0 936.0 M936.0 936.0\" fill=\"none\" filling=\"0\" stroke=\"gold\" stroke-opacity=\"1.0\" stroke-width=\".3\"/>\n",
       "<path d=\"M936.0 936.0 M936.0 936.0\" fill=\"none\" filling=\"0\" stroke=\"coral\" stroke-opacity=\"1.0\" stroke-width=\".3\"/>\n",
       "<path d=\"M936.0 936.0 M936.0 936.0\" fill=\"none\" filling=\"0\" stroke=\"darkviolet\" stroke-opacity=\"1.0\" stroke-width=\".3\"/>\n",
       "<path d=\"M936.0 936.0 M936.0 936.0\" fill=\"none\" filling=\"0\" stroke=\"royalblue\" stroke-opacity=\"1.0\" stroke-width=\".3\"/>\n",
       "<path d=\"M936.0 936.0 M936.0 936.0\" fill=\"none\" filling=\"0\" stroke=\"darkmagenta\" stroke-opacity=\"1.0\" stroke-width=\".3\"/>\n",
       "<path d=\"M936.0 936.0 M936.0 936.0\" fill=\"none\" filling=\"0\" stroke=\"teal\" stroke-opacity=\"1.0\" stroke-width=\".3\"/>\n",
       "<path d=\"M936.0 936.0 M936.0 936.0\" fill=\"none\" filling=\"0\" stroke=\"gold\" stroke-opacity=\"1.0\" stroke-width=\".3\"/>\n",
       "<path d=\"M936.0 936.0 M936.0 936.0\" fill=\"none\" filling=\"0\" stroke=\"green\" stroke-opacity=\"1.0\" stroke-width=\".3\"/>\n",
       "<path d=\"M936.0 936.0 M936.0 936.0\" fill=\"none\" filling=\"0\" stroke=\"maroon\" stroke-opacity=\"1.0\" stroke-width=\".3\"/>\n",
       "<path d=\"M936.0 936.0 M936.0 936.0\" fill=\"none\" filling=\"0\" stroke=\"aqua\" stroke-opacity=\"1.0\" stroke-width=\".3\"/>\n",
       "<path d=\"M936.0 936.0 M936.0 936.0\" fill=\"none\" filling=\"0\" stroke=\"grey\" stroke-opacity=\"1.0\" stroke-width=\".3\"/>\n",
       "<path d=\"M936.0 936.0 M936.0 936.0\" fill=\"none\" filling=\"0\" stroke=\"steelblue\" stroke-opacity=\"1.0\" stroke-width=\".3\"/>\n",
       "<path d=\"M936.0 936.0 M936.0 936.0\" fill=\"none\" filling=\"0\" stroke=\"lime\" stroke-opacity=\"1.0\" stroke-width=\".3\"/>\n",
       "<path d=\"M936.0 936.0 M936.0 936.0\" fill=\"none\" filling=\"0\" stroke=\"orange\" stroke-opacity=\"1.0\" stroke-width=\".3\"/>\n",
       "<path d=\"M936.0 936.0 M936.0 936.0\" fill=\"none\" filling=\"0\" stroke=\"deepskyblue\" stroke-opacity=\"1.0\" stroke-width=\".3\"/>\n",
       "<path d=\"M936.0 936.0 M936.0 936.0\" fill=\"none\" filling=\"0\" stroke=\"lime\" stroke-opacity=\"1.0\" stroke-width=\".3\"/>\n",
       "<path d=\"M936.0 936.0 M936.0 936.0\" fill=\"none\" filling=\"0\" stroke=\"deeppink\" stroke-opacity=\"1.0\" stroke-width=\".3\"/>\n",
       "<path d=\"M936.0 936.0 M936.0 936.0\" fill=\"none\" filling=\"0\" stroke=\"gold\" stroke-opacity=\"1.0\" stroke-width=\".3\"/>\n",
       "<path d=\"M936.0 936.0 M936.0 936.0\" fill=\"none\" filling=\"0\" stroke=\"coral\" stroke-opacity=\"1.0\" stroke-width=\".3\"/>\n",
       "<path d=\"M936.0 936.0 M936.0 936.0\" fill=\"none\" filling=\"0\" stroke=\"darkviolet\" stroke-opacity=\"1.0\" stroke-width=\".3\"/>\n",
       "<path d=\"M936.0 936.0 M936.0 936.0\" fill=\"none\" filling=\"0\" stroke=\"royalblue\" stroke-opacity=\"1.0\" stroke-width=\".3\"/>\n",
       "<path d=\"M936.0 936.0 M936.0 936.0\" fill=\"none\" filling=\"0\" stroke=\"darkmagenta\" stroke-opacity=\"1.0\" stroke-width=\".3\"/>\n",
       "<path d=\"M936.0 936.0 M936.0 936.0\" fill=\"none\" filling=\"0\" stroke=\"teal\" stroke-opacity=\"1.0\" stroke-width=\".3\"/>\n",
       "<path d=\"M936.0 936.0 M936.0 936.0\" fill=\"none\" filling=\"0\" stroke=\"gold\" stroke-opacity=\"1.0\" stroke-width=\".3\"/>\n",
       "<path d=\"M936.0 936.0 M936.0 936.0\" fill=\"none\" filling=\"0\" stroke=\"green\" stroke-opacity=\"1.0\" stroke-width=\".3\"/>\n",
       "<path d=\"M936.0 936.0 M936.0 936.0\" fill=\"none\" filling=\"0\" stroke=\"maroon\" stroke-opacity=\"1.0\" stroke-width=\".3\"/>\n",
       "<path d=\"M936.0 936.0 M936.0 936.0\" fill=\"none\" filling=\"0\" stroke=\"aqua\" stroke-opacity=\"1.0\" stroke-width=\".3\"/>\n",
       "<path d=\"M936.0 936.0 M936.0 936.0\" fill=\"none\" filling=\"0\" stroke=\"grey\" stroke-opacity=\"1.0\" stroke-width=\".3\"/>\n",
       "<path d=\"M936.0 936.0 M936.0 936.0\" fill=\"none\" filling=\"0\" stroke=\"steelblue\" stroke-opacity=\"1.0\" stroke-width=\".3\"/>\n",
       "<path d=\"M936.0 936.0 M936.0 936.0\" fill=\"none\" filling=\"0\" stroke=\"lime\" stroke-opacity=\"1.0\" stroke-width=\".3\"/>\n",
       "<path d=\"M936.0 936.0 M936.0 936.0\" fill=\"none\" filling=\"0\" stroke=\"orange\" stroke-opacity=\"1.0\" stroke-width=\".3\"/>\n",
       "<path d=\"M936.0 936.0 M936.0 936.0\" fill=\"none\" filling=\"0\" stroke=\"deepskyblue\" stroke-opacity=\"1.0\" stroke-width=\".3\"/>\n",
       "<path d=\"M936.0 936.0 M936.0 936.0\" fill=\"none\" filling=\"0\" stroke=\"lime\" stroke-opacity=\"1.0\" stroke-width=\".3\"/>\n",
       "<path d=\"M936.0 936.0 M936.0 936.0\" fill=\"none\" filling=\"0\" stroke=\"deeppink\" stroke-opacity=\"1.0\" stroke-width=\".3\"/>\n",
       "<path d=\"M936.0 936.0 M936.0 936.0\" fill=\"none\" filling=\"0\" stroke=\"gold\" stroke-opacity=\"1.0\" stroke-width=\".3\"/>\n",
       "<path d=\"M936.0 936.0 M936.0 936.0\" fill=\"none\" filling=\"0\" stroke=\"coral\" stroke-opacity=\"1.0\" stroke-width=\".3\"/>\n",
       "<path d=\"M936.0 936.0 M936.0 936.0\" fill=\"none\" filling=\"0\" stroke=\"darkviolet\" stroke-opacity=\"1.0\" stroke-width=\".3\"/>\n",
       "<path d=\"M936.0 936.0 M936.0 936.0\" fill=\"none\" filling=\"0\" stroke=\"royalblue\" stroke-opacity=\"1.0\" stroke-width=\".3\"/>\n",
       "<path d=\"M936.0 936.0 M936.0 936.0\" fill=\"none\" filling=\"0\" stroke=\"darkmagenta\" stroke-opacity=\"1.0\" stroke-width=\".3\"/>\n",
       "<path d=\"M936.0 936.0 M936.0 936.0\" fill=\"none\" filling=\"0\" stroke=\"teal\" stroke-opacity=\"1.0\" stroke-width=\".3\"/>\n",
       "<path d=\"M936.0 936.0 M936.0 936.0\" fill=\"none\" filling=\"0\" stroke=\"gold\" stroke-opacity=\"1.0\" stroke-width=\".3\"/>\n",
       "<path d=\"M936.0 936.0 M936.0 936.0\" fill=\"none\" filling=\"0\" stroke=\"green\" stroke-opacity=\"1.0\" stroke-width=\".3\"/>\n",
       "<path d=\"M936.0 936.0 M936.0 936.0\" fill=\"none\" filling=\"0\" stroke=\"maroon\" stroke-opacity=\"1.0\" stroke-width=\".3\"/>\n",
       "<path d=\"M936.0 936.0 M936.0 936.0\" fill=\"none\" filling=\"0\" stroke=\"aqua\" stroke-opacity=\"1.0\" stroke-width=\".3\"/>\n",
       "<path d=\"M936.0 936.0 M936.0 936.0\" fill=\"none\" filling=\"0\" stroke=\"grey\" stroke-opacity=\"1.0\" stroke-width=\".3\"/>\n",
       "<path d=\"M936.0 936.0 M936.0 936.0\" fill=\"none\" filling=\"0\" stroke=\"steelblue\" stroke-opacity=\"1.0\" stroke-width=\".3\"/>\n",
       "<path d=\"M936.0 936.0 M936.0 936.0\" fill=\"none\" filling=\"0\" stroke=\"lime\" stroke-opacity=\"1.0\" stroke-width=\".3\"/>\n",
       "<path d=\"M936.0 936.0 M936.0 936.0\" fill=\"none\" filling=\"0\" stroke=\"orange\" stroke-opacity=\"1.0\" stroke-width=\".3\"/>\n",
       "<path d=\"M936.0 936.0 M936.0 936.0\" fill=\"none\" filling=\"0\" stroke=\"deepskyblue\" stroke-opacity=\"1.0\" stroke-width=\".3\"/>\n",
       "<path d=\"M936.0 936.0 M936.0 936.0\" fill=\"none\" filling=\"0\" stroke=\"lime\" stroke-opacity=\"1.0\" stroke-width=\".3\"/>\n",
       "<path d=\"M936.0 936.0 M936.0 936.0\" fill=\"none\" filling=\"0\" stroke=\"deeppink\" stroke-opacity=\"1.0\" stroke-width=\".3\"/>\n",
       "<path d=\"M936.0 936.0 M936.0 936.0\" fill=\"none\" filling=\"0\" stroke=\"gold\" stroke-opacity=\"1.0\" stroke-width=\".3\"/>\n",
       "<path d=\"M936.0 936.0 M936.0 936.0\" fill=\"none\" filling=\"0\" stroke=\"coral\" stroke-opacity=\"1.0\" stroke-width=\".3\"/>\n",
       "<path d=\"M936.0 936.0 M936.0 936.0\" fill=\"none\" filling=\"0\" stroke=\"darkviolet\" stroke-opacity=\"1.0\" stroke-width=\".3\"/>\n",
       "<path d=\"M936.0 936.0 M936.0 936.0\" fill=\"none\" filling=\"0\" stroke=\"royalblue\" stroke-opacity=\"1.0\" stroke-width=\".3\"/>\n",
       "<path d=\"M936.0 936.0 M936.0 936.0\" fill=\"none\" filling=\"0\" stroke=\"darkmagenta\" stroke-opacity=\"1.0\" stroke-width=\".3\"/>\n",
       "<path d=\"M936.0 936.0 M936.0 936.0\" fill=\"none\" filling=\"0\" stroke=\"teal\" stroke-opacity=\"1.0\" stroke-width=\".3\"/>\n",
       "<path d=\"M936.0 936.0 M936.0 936.0\" fill=\"none\" filling=\"0\" stroke=\"gold\" stroke-opacity=\"1.0\" stroke-width=\".3\"/>\n",
       "<path d=\"M936.0 936.0 M936.0 936.0\" fill=\"none\" filling=\"0\" stroke=\"green\" stroke-opacity=\"1.0\" stroke-width=\".3\"/>\n",
       "<path d=\"M936.0 936.0 M936.0 936.0\" fill=\"none\" filling=\"0\" stroke=\"maroon\" stroke-opacity=\"1.0\" stroke-width=\".3\"/>\n",
       "<path d=\"M936.0 936.0 M936.0 936.0\" fill=\"none\" filling=\"0\" stroke=\"aqua\" stroke-opacity=\"1.0\" stroke-width=\".3\"/>\n",
       "<path d=\"M936.0 936.0 M936.0 936.0\" fill=\"none\" filling=\"0\" stroke=\"grey\" stroke-opacity=\"1.0\" stroke-width=\".3\"/>\n",
       "<path d=\"M936.0 936.0 M936.0 936.0\" fill=\"none\" filling=\"0\" stroke=\"steelblue\" stroke-opacity=\"1.0\" stroke-width=\".3\"/></svg>"
      ],
      "text/plain": [
       "<IPython.core.display.SVG object>"
      ]
     },
     "metadata": {},
     "output_type": "display_data"
    }
   ],
   "source": [
    "decode(z1, do_display=True, return_png=False)"
   ]
  },
  {
   "cell_type": "code",
   "execution_count": 20,
   "metadata": {},
   "outputs": [],
   "source": [
    "l1 = z1.tolist()"
   ]
  },
  {
   "cell_type": "code",
   "execution_count": 57,
   "metadata": {},
   "outputs": [
    {
     "name": "stdout",
     "output_type": "stream",
     "text": [
      "[[[[-0.3945389986038208, 0.5693248510360718, 1.2302370071411133, -0.9449902772903442, 0.1305479258298874, -1.366237998008728, 0.5054230690002441, -1.2562538385391235, -0.29031097888946533, -0.0934842973947525, -1.0110340118408203, -2.1089961528778076, 0.31432801485061646, 0.31602421402931213, 1.7766863107681274, -0.9548288583755493, 0.16263708472251892, -1.1551719903945923, -0.21126098930835724, -2.127227306365967, 1.4409469366073608, 0.5741609930992126, -1.4085593223571777, -1.5041500329971313, -0.3342382311820984, 0.07823284715414047, 0.20810678601264954, -1.0631102323532104, 0.6459565758705139, 0.4559199810028076, 1.1964231729507446, -1.0823664665222168, 1.080611228942871, -2.002143383026123, -0.9242523312568665, 0.29054200649261475, -1.9453808069229126, 0.2233676314353943, 0.24732661247253418, 1.1103817224502563, 0.7288916110992432, 0.045822467654943466, -2.2712180614471436, 1.084022045135498, -0.2596467137336731, -0.7691308856010437, -0.32048091292381287, 1.1849526166915894, 0.5734497904777527, 0.941743016242981, 0.9256628751754761, -1.1170059442520142, 0.05837276577949524, 0.347802996635437, -1.896568775177002, -1.4720827341079712, 0.3544863760471344, -0.489407479763031, 0.27762913703918457, -0.6153473854064941, 0.6759725213050842, 0.21131008863449097, 1.2160900831222534, -0.6012154817581177, 1.5654300451278687, -1.393964409828186, 0.4621819853782654, -0.2810211777687073, 0.7841330170631409, -2.207735300064087, 0.1679188311100006, 1.6288217306137085, 0.08884334564208984, -0.5381942391395569, -0.4836087226867676, -0.0635504275560379, -1.366001844406128, -1.0352028608322144, -1.4745241403579712, -0.8365317583084106, 0.27006587386131287, 0.1587493121623993, 1.3693203926086426, -0.20160405337810516, 0.7502491474151611, 0.7306920289993286, 0.5221378207206726, 0.0383022204041481, 1.4484622478485107, -0.8757659196853638, -1.269385814666748, 0.5420231223106384, -0.8148698210716248, 0.22534868121147156, -2.48186993598938, 0.30966776609420776, -1.3961992263793945, -1.3402326107025146, 1.8938343524932861, -0.06217778101563454, 0.7835031151771545, -0.5596866011619568, -1.3757245540618896, 0.27348700165748596, 0.6616746783256531, -0.992598295211792, -0.378662645816803, 0.7263416051864624, -0.7059863805770874, -0.22563229501247406, -0.39313653111457825, 1.286824345588684, -0.3774591088294983, 0.6581282019615173, 0.7260093688964844, 1.3183670043945312, 0.17524453997612, -2.8145015239715576, -1.0304994583129883, 0.008835367858409882, -0.15447545051574707, -0.825735330581665, -1.7660146951675415, 1.037068247795105, -0.7928928732872009, -2.1606059074401855, -0.6782182455062866, -1.1649751663208008, -1.358178973197937, 0.09972821921110153, 0.41520339250564575, -2.173892021179199, -0.19907356798648834, 1.3327399492263794, 0.659534215927124, -0.6998516321182251, -1.9603747129440308, 1.324491262435913, -0.04334148392081261, -0.3763282895088196, -1.310573697090149, 0.38374653458595276, -0.06486818194389343, -1.1019314527511597, -0.47397875785827637, -0.5011143684387207, -0.25145629048347473, 0.19061121344566345, -1.537493348121643, 0.3760055601596832, 0.5369406938552856, 0.03707993030548096, 0.708910346031189, 1.842082142829895, 0.8798601627349854, 0.13596662878990173, 0.021305333822965622, -1.5538218021392822, -0.15477754175662994, -0.6810480356216431, 0.44854041934013367, -1.0243430137634277, 1.9069865942001343, -0.26069390773773193, 0.28260257840156555, -0.9160059094429016, 0.5535014867782593, 1.1624956130981445, -1.643041968345642, -0.06480333209037781, 0.331642210483551, -0.8202691078186035, -0.25432923436164856, 0.6386942267417908, -1.2902032136917114, -0.11020150780677795, -0.5901360511779785, 0.13596054911613464, 0.9585320353507996, 0.818610668182373, 0.6459515690803528, 0.11556705832481384, 0.44714704155921936, -0.007874464616179466, -0.2050011157989502, -0.9392027258872986, 0.36860403418540955, 0.5511002540588379, 0.2561793327331543, 0.0340605303645134, -0.47258689999580383, -0.19598601758480072, 0.1529596447944641, -2.3014862537384033, -1.526371955871582, -0.030098382383584976, 1.4216625690460205, -0.4007144570350647, -0.6602023839950562, -0.722367525100708, -0.3668392300605774, -0.8614175915718079, 1.3662259578704834, -1.0549180507659912, 1.924369215965271, 1.0310770273208618, 0.5338777899742126, 0.3814070522785187, -0.8425768613815308, 1.085895299911499, -0.36314547061920166, -0.048330776393413544, -0.2692164182662964, -0.2558045983314514, -0.2912011444568634, -0.2921313941478729, -1.4544240236282349, 0.5757895708084106, 0.16551101207733154, 0.1432461440563202, -1.4700472354888916, -0.704873263835907, -0.19438335299491882, 0.6115003228187561, -0.5285875797271729, -0.8144272565841675, -1.725409746170044, -0.6995919942855835, -2.237393379211426, 0.8391833305358887, 0.6940784454345703, 1.1596261262893677, 1.8215692043304443, 0.40328165888786316, 1.2326284646987915, 0.06317871063947678, -0.3373899459838867, -0.6045471429824829, -2.315298080444336, 1.5003232955932617, 0.4887230396270752, 0.9962448477745056, -1.4382190704345703, 0.15693476796150208, -1.2342101335525513, 2.298382520675659, 0.11107681691646576, -0.24659866094589233, -1.3563097715377808, -1.066631555557251, -1.5871543884277344, -0.8604660630226135, -0.8125733733177185, -0.5675235986709595, -0.8590969443321228, 1.7359591722488403]]]]\n"
     ]
    }
   ],
   "source": [
    "print(l1)"
   ]
  },
  {
   "cell_type": "code",
   "execution_count": null,
   "metadata": {},
   "outputs": [],
   "source": []
  }
 ],
 "metadata": {
  "kernelspec": {
   "display_name": "Python 3",
   "language": "python",
   "name": "python3"
  },
  "language_info": {
   "codemirror_mode": {
    "name": "ipython",
    "version": 3
   },
   "file_extension": ".py",
   "mimetype": "text/x-python",
   "name": "python",
   "nbconvert_exporter": "python",
   "pygments_lexer": "ipython3",
   "version": "3.7.9"
  }
 },
 "nbformat": 4,
 "nbformat_minor": 4
}
